{
  "nbformat": 4,
  "nbformat_minor": 0,
  "metadata": {
    "colab": {
      "provenance": [],
      "collapsed_sections": []
    },
    "kernelspec": {
      "name": "python3",
      "display_name": "Python 3"
    },
    "language_info": {
      "name": "python"
    }
  },
  "cells": [
    {
      "cell_type": "code",
      "execution_count": 1,
      "metadata": {
        "colab": {
          "base_uri": "https://localhost:8080/"
        },
        "id": "Z2uUpyZAOutz",
        "outputId": "655ee19c-3407-40a7-d6a3-8222007cccb7"
      },
      "outputs": [
        {
          "output_type": "stream",
          "name": "stderr",
          "text": [
            "/usr/local/lib/python3.7/dist-packages/sklearn/utils/deprecation.py:87: FutureWarning: Function load_boston is deprecated; `load_boston` is deprecated in 1.0 and will be removed in 1.2.\n",
            "\n",
            "    The Boston housing prices dataset has an ethical problem. You can refer to\n",
            "    the documentation of this function for further details.\n",
            "\n",
            "    The scikit-learn maintainers therefore strongly discourage the use of this\n",
            "    dataset unless the purpose of the code is to study and educate about\n",
            "    ethical issues in data science and machine learning.\n",
            "\n",
            "    In this special case, you can fetch the dataset from the original\n",
            "    source::\n",
            "\n",
            "        import pandas as pd\n",
            "        import numpy as np\n",
            "\n",
            "\n",
            "        data_url = \"http://lib.stat.cmu.edu/datasets/boston\"\n",
            "        raw_df = pd.read_csv(data_url, sep=\"\\s+\", skiprows=22, header=None)\n",
            "        data = np.hstack([raw_df.values[::2, :], raw_df.values[1::2, :2]])\n",
            "        target = raw_df.values[1::2, 2]\n",
            "\n",
            "    Alternative datasets include the California housing dataset (i.e.\n",
            "    :func:`~sklearn.datasets.fetch_california_housing`) and the Ames housing\n",
            "    dataset. You can load the datasets as follows::\n",
            "\n",
            "        from sklearn.datasets import fetch_california_housing\n",
            "        housing = fetch_california_housing()\n",
            "\n",
            "    for the California housing dataset and::\n",
            "\n",
            "        from sklearn.datasets import fetch_openml\n",
            "        housing = fetch_openml(name=\"house_prices\", as_frame=True)\n",
            "\n",
            "    for the Ames housing dataset.\n",
            "    \n",
            "  warnings.warn(msg, category=FutureWarning)\n"
          ]
        },
        {
          "output_type": "stream",
          "name": "stdout",
          "text": [
            "(404, 13)\n",
            "(102, 13)\n",
            "(404,)\n",
            "(102,)\n",
            "the model performance for training set\n",
            "rms is 4.741000992236517\n",
            "\n",
            "\n",
            "The model performance for testing set\n",
            "rms is 4.5682920423032\n"
          ]
        }
      ],
      "source": [
        "# Rohit Pal\n",
        "import numpy as np\n",
        "import pandas as pd\n",
        "import sklearn\n",
        "from sklearn.datasets import load_boston\n",
        "df =load_boston()\n",
        "#df.keys()\n",
        "boston =pd.DataFrame(df.data,columns = df.feature_names)\n",
        "boston['MEDV'] =df.target\n",
        "boston.head()\n",
        "from sklearn.model_selection import train_test_split\n",
        "x= boston.drop('MEDV',axis =1)\n",
        "y = boston['MEDV']\n",
        "\n",
        "x_train , x_test , y_train ,y_test =train_test_split(x,y,test_size = 0.20,random_state =5)\n",
        "print(x_train.shape)\n",
        "print(x_test.shape)\n",
        "print(y_train.shape)\n",
        "print(y_test.shape)\n",
        "\n",
        "from sklearn.linear_model import LinearRegression\n",
        "from sklearn.metrics import mean_squared_error\n",
        "lin_model = LinearRegression()\n",
        "lin_model.fit(x_train, y_train)\n",
        "\n",
        "y_train_predict =lin_model.predict(x_train)\n",
        "rmse =(np.sqrt(mean_squared_error(y_train, y_train_predict)))\n",
        "print('the model performance for training set')\n",
        "print('rms is {}'.format(rmse))\n",
        "print('\\n')\n",
        "\n",
        "y_test_predict =lin_model.predict(x_test)\n",
        "rmse =(np.sqrt(mean_squared_error(y_test, y_test_predict)))\n",
        "print('The model performance for testing set')\n",
        "print('rms is {}'.format(rmse))"
      ]
    }
  ]
}